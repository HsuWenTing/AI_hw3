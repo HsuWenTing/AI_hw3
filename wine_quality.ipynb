{
  "cells": [
    {
      "cell_type": "code",
      "execution_count": 1,
      "metadata": {
        "id": "k_I8R1UNtD6C"
      },
      "outputs": [],
      "source": [
        "import torch\n",
        "import torch.nn as nn\n",
        "import torch.optim as optim\n",
        "import pandas as pd\n",
        "from sklearn.model_selection import train_test_split\n",
        "from sklearn.preprocessing import StandardScaler\n",
        "from sklearn.preprocessing import RobustScaler\n",
        "from torch.utils.data import DataLoader, TensorDataset"
      ]
    },
    {
      "cell_type": "code",
      "execution_count": 2,
      "metadata": {
        "id": "_3UoDjBbmKik"
      },
      "outputs": [
        {
          "data": {
            "text/plain": [
              "device(type='cpu')"
            ]
          },
          "execution_count": 2,
          "metadata": {},
          "output_type": "execute_result"
        }
      ],
      "source": [
        "# 設定 GPU\n",
        "device = torch.device(\"cuda\" if torch.cuda.is_available() else \"cpu\")\n",
        "device"
      ]
    },
    {
      "cell_type": "code",
      "execution_count": 3,
      "metadata": {
        "id": "sh800dUAtUCE"
      },
      "outputs": [
        {
          "name": "stdout",
          "output_type": "stream",
          "text": [
            "   fixed acidity  volatile acidity  citric acid  residual sugar  chlorides  \\\n",
            "0            6.9             0.670         0.06             2.1      0.080   \n",
            "1            7.5             0.530         0.06             2.6      0.086   \n",
            "2           11.1             0.180         0.48             1.5      0.068   \n",
            "3            8.3             0.705         0.12             2.6      0.092   \n",
            "4            7.4             0.670         0.12             1.6      0.186   \n",
            "\n",
            "   free sulfur dioxide  total sulfur dioxide  density    pH  sulphates  \\\n",
            "0                    8                    33  0.99845  3.68       0.71   \n",
            "1                   20                    44  0.99650  3.38       0.59   \n",
            "2                    7                    15  0.99730  3.22       0.64   \n",
            "3                   12                    28  0.99940  3.51       0.72   \n",
            "4                    5                    21  0.99600  3.39       0.54   \n",
            "\n",
            "   alcohol  quality  \n",
            "0      9.6        5  \n",
            "1     10.7        6  \n",
            "2     10.1        6  \n",
            "3     10.0        5  \n",
            "4      9.5        5  \n"
          ]
        }
      ],
      "source": [
        "#### TODO\n",
        "data = pd.read_csv('./winequality-red_train.csv', delimiter=',')\n",
        "print(data.head())\n",
        "#### TODO\n",
        "\n",
        "selected_features = True #要不要只選特定特徵\n",
        "if selected_features:\n",
        "  #### TODO\n",
        "  selected_features = ['fixed acidity', 'volatile acidity', 'citric acid', 'residual sugar', \n",
        "                         'chlorides', 'free sulfur dioxide', 'total sulfur dioxide', 'density', \n",
        "                         'pH', 'sulphates', 'alcohol']\n",
        "  #### TODO\n",
        "if selected_features:\n",
        "  data = data[selected_features + ['quality']]\n",
        "\n",
        "# 分割特徵與標籤\n",
        "X = data.iloc[:, :-1].values  # 特徵\n",
        "y = data.iloc[:, -1].values   # 標籤 (Wine Quality)\n",
        "\n",
        "# 標準化數據\n",
        "scaler = StandardScaler() #對異常值較不敏感\n",
        "X = scaler.fit_transform(X)\n"
      ]
    },
    {
      "cell_type": "code",
      "execution_count": 4,
      "metadata": {
        "id": "VWEwuajou0k7"
      },
      "outputs": [],
      "source": [
        "# 切分訓練集與測試集\n",
        "X_train, X_test, y_train, y_test = train_test_split(X, y, test_size=0.2, random_state=42)\n",
        "\n",
        "# 轉換為 PyTorch Tensor\n",
        "X_train_tensor = torch.tensor(X_train, dtype=torch.float32).to(device)\n",
        "y_train_tensor = torch.tensor(y_train, dtype=torch.long).to(device)\n",
        "X_test_tensor = torch.tensor(X_test, dtype=torch.float32).to(device)\n",
        "y_test_tensor = torch.tensor(y_test, dtype=torch.long).to(device)\n",
        "\n",
        "# 創建 DataLoader\n",
        "train_dataset = TensorDataset(X_train_tensor, y_train_tensor)\n",
        "test_dataset = TensorDataset(X_test_tensor, y_test_tensor)\n",
        "train_loader = DataLoader(train_dataset, batch_size=32, shuffle=True)\n",
        "test_loader = DataLoader(test_dataset, batch_size=32, shuffle=False)"
      ]
    },
    {
      "cell_type": "code",
      "execution_count": 5,
      "metadata": {
        "id": "puyyxtZ4vDIx"
      },
      "outputs": [],
      "source": [
        "# 定義神經網絡模型\n",
        "class WineQualityNN(nn.Module):\n",
        "    def __init__(self, input_dim):\n",
        "        super(WineQualityNN, self).__init__()\n",
        "        #### TODO\n",
        "        self.fc1 = nn.Linear(input_dim, 128)\n",
        "        self.fc2 = nn.Linear(128, 128)\n",
        "        self.fc3 = nn.Linear(128, 64)\n",
        "        self.fc4 = nn.Linear(64, 11)  # Wine quality 範圍為 0-10\n",
        "        #### TODO\n",
        "\n",
        "    def forward(self, x):\n",
        "        x = torch.relu(self.fc1(x))\n",
        "        x = torch.relu(self.fc2(x))\n",
        "        x = torch.relu(self.fc3(x))\n",
        "        x = self.fc4(x)\n",
        "        return x"
      ]
    },
    {
      "cell_type": "code",
      "execution_count": 6,
      "metadata": {
        "id": "hwpJdnUkvG_0"
      },
      "outputs": [],
      "source": [
        "# 初始化模型\n",
        "input_dim = X.shape[1] # 計算輸入的特徵數\n",
        "model = WineQualityNN(input_dim).to(device)\n",
        "criterion = nn.CrossEntropyLoss() # 使用交叉熵損失函數（適用於分類問題)\n",
        "optimizer = optim.Adam(model.parameters(), lr=0.01)"
      ]
    },
    {
      "cell_type": "code",
      "execution_count": 7,
      "metadata": {
        "id": "OR4rKdpnvMAj"
      },
      "outputs": [],
      "source": [
        "# 訓練模型\n",
        "def train_model(model, train_loader, criterion, optimizer, epochs=20): #為什麼epochs設成20\n",
        "    for epoch in range(epochs):\n",
        "        total_loss = 0\n",
        "        for X_batch, y_batch in train_loader:\n",
        "            optimizer.zero_grad()\n",
        "            outputs = model(X_batch)\n",
        "            loss = criterion(outputs, y_batch)\n",
        "            loss.backward()\n",
        "            optimizer.step() #更新權重\n",
        "            total_loss += loss.item()\n",
        "        print(f\"Epoch {epoch+1}/{epochs}, Loss: {total_loss/len(train_loader):.4f}\")\n"
      ]
    },
    {
      "cell_type": "code",
      "execution_count": 8,
      "metadata": {
        "id": "2yMSIqfjvNbF"
      },
      "outputs": [],
      "source": [
        "# 測試模型\n",
        "def test_model(model, test_loader):\n",
        "    correct = 0\n",
        "    total = 0\n",
        "    with torch.no_grad():\n",
        "        for X_batch, y_batch in test_loader:\n",
        "            outputs = model(X_batch)\n",
        "            _, predicted = torch.max(outputs, 1)\n",
        "            total += y_batch.size(0)\n",
        "            correct += (predicted == y_batch).sum().item()\n",
        "    print(f\"Test Accuracy: {100 * correct / total:.2f}%\")"
      ]
    },
    {
      "cell_type": "code",
      "execution_count": null,
      "metadata": {
        "id": "CHySQ_n_vPer"
      },
      "outputs": [
        {
          "name": "stdout",
          "output_type": "stream",
          "text": [
            "Epoch 1/100, Loss: 1.1924\n",
            "Epoch 2/100, Loss: 0.9919\n",
            "Epoch 3/100, Loss: 0.9441\n",
            "Epoch 4/100, Loss: 0.9054\n",
            "Epoch 5/100, Loss: 0.8932\n",
            "Epoch 6/100, Loss: 0.8951\n",
            "Epoch 7/100, Loss: 0.8600\n",
            "Epoch 8/100, Loss: 0.8331\n",
            "Epoch 9/100, Loss: 0.8280\n",
            "Epoch 10/100, Loss: 0.7957\n",
            "Epoch 11/100, Loss: 0.8002\n",
            "Epoch 12/100, Loss: 0.8041\n",
            "Epoch 13/100, Loss: 0.7321\n",
            "Epoch 14/100, Loss: 0.7277\n",
            "Epoch 15/100, Loss: 0.7103\n",
            "Epoch 16/100, Loss: 0.6717\n",
            "Epoch 17/100, Loss: 0.6837\n",
            "Epoch 18/100, Loss: 0.6763\n",
            "Epoch 19/100, Loss: 0.6664\n",
            "Epoch 20/100, Loss: 0.6622\n",
            "Epoch 21/100, Loss: 0.6154\n",
            "Epoch 22/100, Loss: 0.5647\n",
            "Epoch 23/100, Loss: 0.5761\n",
            "Epoch 24/100, Loss: 0.5644\n",
            "Epoch 25/100, Loss: 0.5693\n",
            "Epoch 26/100, Loss: 0.4916\n",
            "Epoch 27/100, Loss: 0.4172\n",
            "Epoch 28/100, Loss: 0.4254\n",
            "Epoch 29/100, Loss: 0.3881\n",
            "Epoch 30/100, Loss: 0.3933\n",
            "Epoch 31/100, Loss: 0.3784\n",
            "Epoch 32/100, Loss: 0.3469\n",
            "Epoch 33/100, Loss: 0.3532\n",
            "Epoch 34/100, Loss: 0.3057\n",
            "Epoch 35/100, Loss: 0.3458\n",
            "Epoch 36/100, Loss: 0.3118\n",
            "Epoch 37/100, Loss: 0.2770\n",
            "Epoch 38/100, Loss: 0.2981\n",
            "Epoch 39/100, Loss: 0.3535\n",
            "Epoch 40/100, Loss: 0.2716\n",
            "Epoch 41/100, Loss: 0.2218\n",
            "Epoch 42/100, Loss: 0.2239\n",
            "Epoch 43/100, Loss: 0.2611\n",
            "Epoch 44/100, Loss: 0.3455\n",
            "Epoch 45/100, Loss: 0.2603\n",
            "Epoch 46/100, Loss: 0.1631\n",
            "Epoch 47/100, Loss: 0.1167\n",
            "Epoch 48/100, Loss: 0.1351\n",
            "Epoch 49/100, Loss: 0.1816\n",
            "Epoch 50/100, Loss: 0.2789\n",
            "Epoch 51/100, Loss: 0.3981\n",
            "Epoch 52/100, Loss: 0.2871\n",
            "Epoch 53/100, Loss: 0.2306\n",
            "Epoch 54/100, Loss: 0.1699\n",
            "Epoch 55/100, Loss: 0.1770\n",
            "Epoch 56/100, Loss: 0.1514\n",
            "Epoch 57/100, Loss: 0.1532\n",
            "Epoch 58/100, Loss: 0.1161\n",
            "Epoch 59/100, Loss: 0.1214\n",
            "Epoch 60/100, Loss: 0.1962\n",
            "Epoch 61/100, Loss: 0.2165\n",
            "Epoch 62/100, Loss: 0.1982\n",
            "Epoch 63/100, Loss: 0.1385\n",
            "Epoch 64/100, Loss: 0.1653\n",
            "Epoch 65/100, Loss: 0.1716\n",
            "Epoch 66/100, Loss: 0.1560\n",
            "Epoch 67/100, Loss: 0.1021\n",
            "Epoch 68/100, Loss: 0.1043\n",
            "Epoch 69/100, Loss: 0.1053\n",
            "Epoch 70/100, Loss: 0.1164\n",
            "Epoch 71/100, Loss: 0.1112\n",
            "Epoch 72/100, Loss: 0.0792\n",
            "Epoch 73/100, Loss: 0.0960\n",
            "Epoch 74/100, Loss: 0.1307\n",
            "Epoch 75/100, Loss: 0.1548\n",
            "Epoch 76/100, Loss: 0.2139\n",
            "Epoch 77/100, Loss: 0.1434\n",
            "Epoch 78/100, Loss: 0.1435\n",
            "Epoch 79/100, Loss: 0.1401\n",
            "Epoch 80/100, Loss: 0.1481\n",
            "Epoch 81/100, Loss: 0.2024\n",
            "Epoch 82/100, Loss: 0.2372\n",
            "Epoch 83/100, Loss: 0.1680\n",
            "Epoch 84/100, Loss: 0.1287\n",
            "Epoch 85/100, Loss: 0.0896\n",
            "Epoch 86/100, Loss: 0.1098\n",
            "Epoch 87/100, Loss: 0.1147\n",
            "Epoch 88/100, Loss: 0.1435\n",
            "Epoch 89/100, Loss: 0.0986\n",
            "Epoch 90/100, Loss: 0.1061\n",
            "Epoch 91/100, Loss: 0.0705\n",
            "Epoch 92/100, Loss: 0.0673\n",
            "Epoch 93/100, Loss: 0.0747\n",
            "Epoch 94/100, Loss: 0.0770\n",
            "Epoch 95/100, Loss: 0.0555\n",
            "Epoch 96/100, Loss: 0.0784\n",
            "Epoch 97/100, Loss: 0.1694\n",
            "Epoch 98/100, Loss: 0.2063\n",
            "Epoch 99/100, Loss: 0.2784\n",
            "Epoch 100/100, Loss: 0.1888\n",
            "Test Accuracy: 64.23%\n"
          ]
        }
      ],
      "source": [
        "# 執行訓練與測試\n",
        "train_model(model, train_loader, criterion, optimizer, epochs=100)\n",
        "test_model(model, test_loader)"
      ]
    },
    {
      "cell_type": "code",
      "execution_count": 10,
      "metadata": {
        "id": "Cds03rOn0acY"
      },
      "outputs": [],
      "source": [
        "# 預測新數據並保存到同一個 CSV\n",
        "def predict_and_save_combined(model, selected_features, files, output_csv):\n",
        "    results = []\n",
        "    for file_path, wine_type in files:\n",
        "        data = pd.read_csv(file_path, delimiter=',')\n",
        "        if selected_features:\n",
        "            data = data[selected_features]\n",
        "        X_new = scaler.transform(data.values)\n",
        "        X_new_tensor = torch.tensor(X_new, dtype=torch.float32).to(device)\n",
        "\n",
        "        with torch.no_grad():\n",
        "            outputs = model(X_new_tensor)\n",
        "            _, predicted = torch.max(outputs, 1)\n",
        "\n",
        "        results.extend([\n",
        "            {'ID': f\"{wine_type}_{i+1}\", 'quality': int(pred.cpu().numpy())}\n",
        "            for i, pred in enumerate(predicted)\n",
        "        ])\n",
        "\n",
        "    results_df = pd.DataFrame(results)\n",
        "    results_df.to_csv(output_csv, index=False)\n",
        "    print(f\"Predictions saved to {output_csv}\")"
      ]
    },
    {
      "cell_type": "code",
      "execution_count": 11,
      "metadata": {
        "id": "siQnD7qF0beS"
      },
      "outputs": [
        {
          "name": "stdout",
          "output_type": "stream",
          "text": [
            "Predictions saved to ./baseline_winequality_predictions.csv\n"
          ]
        }
      ],
      "source": [
        "# 預測紅酒與白酒品質，合併輸出至單一 CSV\n",
        "predict_and_save_combined(model,\n",
        "  selected_features,\n",
        " [(\"winequality-red_goal.csv\", \"red\"), (\"winequality-white_goal.csv\", \"white\")],\n",
        "                          \"./baseline_winequality_predictions.csv\")"
      ]
    }
  ],
  "metadata": {
    "colab": {
      "provenance": []
    },
    "kernelspec": {
      "display_name": "aia16",
      "language": "python",
      "name": "python3"
    },
    "language_info": {
      "codemirror_mode": {
        "name": "ipython",
        "version": 3
      },
      "file_extension": ".py",
      "mimetype": "text/x-python",
      "name": "python",
      "nbconvert_exporter": "python",
      "pygments_lexer": "ipython3",
      "version": "3.8.1"
    }
  },
  "nbformat": 4,
  "nbformat_minor": 0
}
