{
  "cells": [
    {
      "cell_type": "code",
      "execution_count": 737,
      "metadata": {
        "id": "k_I8R1UNtD6C"
      },
      "outputs": [],
      "source": [
        "import pandas as pd\n",
        "import numpy as np\n",
        "import torch\n",
        "import torch.nn as nn\n",
        "import torch.nn.functional as F\n",
        "from torch.utils.data import TensorDataset, DataLoader\n",
        "from sklearn.model_selection import KFold\n",
        "from sklearn.preprocessing import StandardScaler, RobustScaler\n",
        "import random"
      ]
    },
    {
      "cell_type": "code",
      "execution_count": 738,
      "metadata": {
        "id": "_3UoDjBbmKik"
      },
      "outputs": [
        {
          "data": {
            "text/plain": [
              "device(type='cpu')"
            ]
          },
          "execution_count": 738,
          "metadata": {},
          "output_type": "execute_result"
        }
      ],
      "source": [
        "# 設定 GPU\n",
        "device = torch.device(\"cuda\" if torch.cuda.is_available() else \"cpu\")\n",
        "device"
      ]
    },
    {
      "cell_type": "code",
      "execution_count": 739,
      "metadata": {},
      "outputs": [],
      "source": [
        "#設定隨機種子\n",
        "def set_seed(seed=42):\n",
        "    random.seed(seed)\n",
        "    np.random.seed(seed)\n",
        "    torch.manual_seed(seed)\n",
        "    torch.cuda.manual_seed_all(seed)\n",
        "set_seed(42)"
      ]
    },
    {
      "cell_type": "code",
      "execution_count": 740,
      "metadata": {},
      "outputs": [],
      "source": [
        "#參數\n",
        "params = {\n",
        "    'num_layers': 4,\n",
        "    'dropout': True,\n",
        "    'use_bn': True,\n",
        "    'batch_size': 64,\n",
        "    'lr': 0.001,\n",
        "    'weight_decay': 1e-4,\n",
        "    'scaler': 'standard'  # 'standard' or 'robust'\n",
        "}"
      ]
    },
    {
      "cell_type": "code",
      "execution_count": 741,
      "metadata": {
        "id": "sh800dUAtUCE"
      },
      "outputs": [
        {
          "name": "stdout",
          "output_type": "stream",
          "text": [
            "   fixed acidity  volatile acidity  citric acid  residual sugar  chlorides  \\\n",
            "0            6.9             0.670         0.06             2.1      0.080   \n",
            "1            7.5             0.530         0.06             2.6      0.086   \n",
            "2           11.1             0.180         0.48             1.5      0.068   \n",
            "3            8.3             0.705         0.12             2.6      0.092   \n",
            "4            7.4             0.670         0.12             1.6      0.186   \n",
            "\n",
            "   free sulfur dioxide  total sulfur dioxide  density    pH  sulphates  \\\n",
            "0                    8                    33  0.99845  3.68       0.71   \n",
            "1                   20                    44  0.99650  3.38       0.59   \n",
            "2                    7                    15  0.99730  3.22       0.64   \n",
            "3                   12                    28  0.99940  3.51       0.72   \n",
            "4                    5                    21  0.99600  3.39       0.54   \n",
            "\n",
            "   alcohol  quality  wine_type  \n",
            "0      9.6        5          0  \n",
            "1     10.7        6          0  \n",
            "2     10.1        6          0  \n",
            "3     10.0        5          0  \n",
            "4      9.5        5          0  \n",
            "   fixed acidity  volatile acidity  citric acid  residual sugar  chlorides  \\\n",
            "0            7.0              0.27         0.36            20.7      0.045   \n",
            "1            6.3              0.30         0.34             1.6      0.049   \n",
            "2            8.1              0.28         0.40             6.9      0.050   \n",
            "3            7.2              0.23         0.32             8.5      0.058   \n",
            "4            7.2              0.23         0.32             8.5      0.058   \n",
            "\n",
            "   free sulfur dioxide  total sulfur dioxide  density    pH  sulphates  \\\n",
            "0                 45.0                 170.0   1.0010  3.00       0.45   \n",
            "1                 14.0                 132.0   0.9940  3.30       0.49   \n",
            "2                 30.0                  97.0   0.9951  3.26       0.44   \n",
            "3                 47.0                 186.0   0.9956  3.19       0.40   \n",
            "4                 47.0                 186.0   0.9956  3.19       0.40   \n",
            "\n",
            "   alcohol  quality  wine_type  \n",
            "0      8.8        6          1  \n",
            "1      9.5        6          1  \n",
            "2     10.1        6          1  \n",
            "3      9.9        6          1  \n",
            "4      9.9        6          1  \n"
          ]
        }
      ],
      "source": [
        "#### TODO\n",
        "red= pd.read_csv('./winequality-red_train.csv')\n",
        "white = pd.read_csv('./winequality-white_train.csv')\n",
        "#增加一個column(wine_type)\n",
        "red['wine_type'] = 0 \n",
        "white['wine_type'] = 1\n",
        "\n",
        "train = pd.concat([red, white], ignore_index=True)\n",
        "\n",
        "test_red = pd.read_csv('./winequality-red_goal.csv')\n",
        "test_white = pd.read_csv('./winequality-white_goal.csv')\n",
        "test_red['wine_type'] = 0\n",
        "test_white['wine_type'] = 1\n",
        "\n",
        "test_all = pd.concat([test_red, test_white], ignore_index=True)\n",
        "\n",
        "print(red.head())\n",
        "print(white.head())\n",
        "#### TODO\n",
        "\n",
        "# selected_features = False #要不要只選特定特徵\n",
        "# if selected_features:\n",
        "#   #### TODO\n",
        "#   selected_features = ['fixed acidity', 'volatile acidity', 'residual sugar', 'free sulfur dioxide', 'citric acid', 'chlorides', 'total sulfur dioxide', 'density', \n",
        "#                          'pH', 'sulphates', 'alcohol'] # \n",
        "#   #### TODO\n",
        "# if selected_features:\n",
        "#   data = data[selected_features + ['quality']]\n",
        "\n",
        "# 分割特徵與標籤\n",
        "X = train.drop('quality', axis=1).values\n",
        "y = train['quality'].values\n",
        "X_test = test_all[train.drop('quality', axis=1).columns].values\n",
        "\n",
        "# 標準化數據\n",
        "scaler = StandardScaler() if params['scaler'] == 'standard' else RobustScaler()\n",
        "X = scaler.fit_transform(X)\n",
        "X_test = scaler.transform(X_test)\n"
      ]
    },
    {
      "cell_type": "code",
      "execution_count": 742,
      "metadata": {
        "id": "VWEwuajou0k7"
      },
      "outputs": [],
      "source": [
        "# # 切分訓練集與測試集\n",
        "# X_train, X_test, y_train, y_test = train_test_split(X, y, test_size=0.1, random_state=42, stratify=y)\n",
        "\n",
        "# # 轉換為 PyTorch Tensor\n",
        "# X_train_tensor = torch.tensor(X_train, dtype=torch.float32).to(device)\n",
        "# y_train_tensor = torch.tensor(y_train, dtype=torch.long).to(device)\n",
        "# X_test_tensor = torch.tensor(X_test, dtype=torch.float32).to(device)\n",
        "# y_test_tensor = torch.tensor(y_test, dtype=torch.long).to(device)\n",
        "\n",
        "# # 創建 DataLoader\n",
        "# train_dataset = TensorDataset(X_train_tensor, y_train_tensor)\n",
        "# test_dataset = TensorDataset(X_test_tensor, y_test_tensor)\n",
        "# train_loader = DataLoader(train_dataset, batch_size=64, shuffle=True)\n",
        "# test_loader = DataLoader(test_dataset, batch_size=64, shuffle=False)"
      ]
    },
    {
      "cell_type": "code",
      "execution_count": 743,
      "metadata": {
        "id": "puyyxtZ4vDIx"
      },
      "outputs": [],
      "source": [
        "# # 定義神經網絡模型\n",
        "# class WineQualityNN(nn.Module):\n",
        "#     def __init__(self, input_dim):\n",
        "#         super(WineQualityNN, self).__init__()\n",
        "#         #### TODO\n",
        "#         self.fc1 = nn.Linear(input_dim, 64)\n",
        "#         self.bn1 = nn.BatchNorm1d(64)\n",
        "#         self.fc2 = nn.Linear(64, 32)\n",
        "#         self.bn2 = nn.BatchNorm1d(32)\n",
        "#         self.fc3 = nn.Linear(32, 11)\n",
        "#         self.dropout = nn.Dropout(0.15)\n",
        "\n",
        "#     def forward(self, x):\n",
        "#         x = self.dropout(F.relu(self.bn1(self.fc1(x))))\n",
        "#         x = self.dropout(F.relu(self.bn2(self.fc2(x))))\n",
        "#         x = self.fc3(x)\n",
        "#         return x\n",
        "class WineQualityNN(nn.Module):\n",
        "    def __init__(self, input_dim, num_layers=3, dropout=True, use_bn=True):\n",
        "        super(WineQualityNN, self).__init__()\n",
        "        dims = [input_dim, 512, 256, 128, 64, 32, 16]\n",
        "        layers = []\n",
        "        for i in range(num_layers):\n",
        "            layers.append(nn.Linear(dims[i], dims[i+1]))\n",
        "            if use_bn:\n",
        "                layers.append(nn.BatchNorm1d(dims[i+1]))\n",
        "            layers.append(nn.ReLU())\n",
        "            if dropout:\n",
        "                layers.append(nn.Dropout(0.3))\n",
        "        self.hidden = nn.Sequential(*layers)\n",
        "        self.output = nn.Linear(dims[num_layers], 11)\n",
        "\n",
        "    def forward(self, x):\n",
        "        return self.output(self.hidden(x))\n"
      ]
    },
    {
      "cell_type": "code",
      "execution_count": 744,
      "metadata": {
        "id": "hwpJdnUkvG_0"
      },
      "outputs": [],
      "source": [
        "# # 初始化模型\n",
        "# model = WineQualityNN(input_dim=X_train.shape[1],\n",
        "#                           num_layers=4,\n",
        "#                           use_batchnorm=False,\n",
        "#                           use_dropout=False).to(device)\n",
        "\n",
        "# criterion = nn.CrossEntropyLoss()\n",
        "# optimizer = optim.Adam(model.parameters(), lr=0.002, weight_decay=1e-05)\n"
      ]
    },
    {
      "cell_type": "code",
      "execution_count": null,
      "metadata": {
        "id": "OR4rKdpnvMAj"
      },
      "outputs": [],
      "source": [
        "# 訓練模型輸出預測 \n",
        "def train_and_predict(X, y, X_test, params, red_len):\n",
        "    dataset = TensorDataset(torch.tensor(X, dtype=torch.float32),\n",
        "                            torch.tensor(y, dtype=torch.long))\n",
        "    loader = DataLoader(dataset, batch_size=params['batch_size'], shuffle=True)\n",
        "\n",
        "    model = WineQualityNN(input_dim=X.shape[1],\n",
        "                          num_layers=params['num_layers'],\n",
        "                          dropout=params['dropout'],\n",
        "                          use_bn=params['use_bn'])\n",
        "    optimizer = torch.optim.Adam(model.parameters(), lr=params['lr'], weight_decay=params['weight_decay'])\n",
        "    criterion = nn.CrossEntropyLoss()\n",
        "\n",
        "    for epoch in range(30):\n",
        "        model.train()\n",
        "        for xb, yb in loader:\n",
        "            optimizer.zero_grad()\n",
        "            preds = model(xb)\n",
        "            loss = criterion(preds, yb)\n",
        "            loss.backward()\n",
        "            optimizer.step()\n",
        "\n",
        "    # 預測\n",
        "    model.eval()\n",
        "    with torch.no_grad():\n",
        "        preds = model(torch.tensor(X_test, dtype=torch.float32))\n",
        "        predicted = preds.argmax(1).numpy()\n",
        "\n",
        "    # 組裝 ID + 預測結果\n",
        "    ids = [f\"red_{i+1}\" for i in range(red_len)] + [f\"white_{i+1}\" for i in range(len(X_test) - red_len)]\n",
        "    df_submit = pd.DataFrame({'ID': ids, 'quality': predicted})\n",
        "    df_submit.to_csv('winequality_predictions.csv', index=False)\n",
        "    print(\"預測已輸出 winequality_predictions.csv\")"
      ]
    },
    {
      "cell_type": "code",
      "execution_count": 746,
      "metadata": {
        "id": "CHySQ_n_vPer"
      },
      "outputs": [
        {
          "ename": "AttributeError",
          "evalue": "'bool' object has no attribute 'sum'",
          "output_type": "error",
          "traceback": [
            "\u001b[0;31m---------------------------------------------------------------------------\u001b[0m",
            "\u001b[0;31mAttributeError\u001b[0m                            Traceback (most recent call last)",
            "\u001b[0;32m<ipython-input-746-97e085acc9bf>\u001b[0m in \u001b[0;36m<cell line: 2>\u001b[0;34m()\u001b[0m\n\u001b[1;32m      1\u001b[0m \u001b[0;31m# 執行\u001b[0m\u001b[0;34m\u001b[0m\u001b[0;34m\u001b[0m\u001b[0;34m\u001b[0m\u001b[0m\n\u001b[0;32m----> 2\u001b[0;31m \u001b[0mtrain_and_predict\u001b[0m\u001b[0;34m(\u001b[0m\u001b[0mX\u001b[0m\u001b[0;34m,\u001b[0m \u001b[0my\u001b[0m\u001b[0;34m,\u001b[0m \u001b[0mX_test\u001b[0m\u001b[0;34m,\u001b[0m \u001b[0mparams\u001b[0m\u001b[0;34m,\u001b[0m \u001b[0mred_len\u001b[0m\u001b[0;34m=\u001b[0m\u001b[0mlen\u001b[0m\u001b[0;34m(\u001b[0m\u001b[0mtest_red\u001b[0m\u001b[0;34m)\u001b[0m\u001b[0;34m)\u001b[0m\u001b[0;34m\u001b[0m\u001b[0;34m\u001b[0m\u001b[0m\n\u001b[0m",
            "\u001b[0;32m<ipython-input-745-3f9a48d5c2ac>\u001b[0m in \u001b[0;36mtrain_and_predict\u001b[0;34m(X, y, X_test, params, red_len)\u001b[0m\n\u001b[1;32m     28\u001b[0m         \u001b[0mpreds\u001b[0m \u001b[0;34m=\u001b[0m \u001b[0mmodel\u001b[0m\u001b[0;34m(\u001b[0m\u001b[0mtorch\u001b[0m\u001b[0;34m.\u001b[0m\u001b[0mtensor\u001b[0m\u001b[0;34m(\u001b[0m\u001b[0mX_test\u001b[0m\u001b[0;34m,\u001b[0m \u001b[0mdtype\u001b[0m\u001b[0;34m=\u001b[0m\u001b[0mtorch\u001b[0m\u001b[0;34m.\u001b[0m\u001b[0mfloat32\u001b[0m\u001b[0;34m)\u001b[0m\u001b[0;34m)\u001b[0m\u001b[0;34m\u001b[0m\u001b[0;34m\u001b[0m\u001b[0m\n\u001b[1;32m     29\u001b[0m         \u001b[0mpredicted\u001b[0m \u001b[0;34m=\u001b[0m \u001b[0mpreds\u001b[0m\u001b[0;34m.\u001b[0m\u001b[0margmax\u001b[0m\u001b[0;34m(\u001b[0m\u001b[0;36m1\u001b[0m\u001b[0;34m)\u001b[0m\u001b[0;34m.\u001b[0m\u001b[0mnumpy\u001b[0m\u001b[0;34m(\u001b[0m\u001b[0;34m)\u001b[0m\u001b[0;34m\u001b[0m\u001b[0;34m\u001b[0m\u001b[0m\n\u001b[0;32m---> 30\u001b[0;31m         \u001b[0mcorrect\u001b[0m \u001b[0;34m+=\u001b[0m \u001b[0;34m(\u001b[0m\u001b[0mpredicted\u001b[0m \u001b[0;34m==\u001b[0m \u001b[0myb\u001b[0m\u001b[0;34m)\u001b[0m\u001b[0;34m.\u001b[0m\u001b[0msum\u001b[0m\u001b[0;34m(\u001b[0m\u001b[0;34m)\u001b[0m\u001b[0;34m.\u001b[0m\u001b[0mitem\u001b[0m\u001b[0;34m(\u001b[0m\u001b[0;34m)\u001b[0m\u001b[0;34m\u001b[0m\u001b[0;34m\u001b[0m\u001b[0m\n\u001b[0m\u001b[1;32m     31\u001b[0m         \u001b[0mtotal\u001b[0m \u001b[0;34m+=\u001b[0m \u001b[0myb\u001b[0m\u001b[0;34m.\u001b[0m\u001b[0msize\u001b[0m\u001b[0;34m(\u001b[0m\u001b[0;36m0\u001b[0m\u001b[0;34m)\u001b[0m\u001b[0;34m\u001b[0m\u001b[0;34m\u001b[0m\u001b[0m\n\u001b[1;32m     32\u001b[0m     \u001b[0macc\u001b[0m \u001b[0;34m=\u001b[0m \u001b[0mcorrect\u001b[0m \u001b[0;34m/\u001b[0m \u001b[0mtotal\u001b[0m\u001b[0;34m\u001b[0m\u001b[0;34m\u001b[0m\u001b[0m\n",
            "\u001b[0;31mAttributeError\u001b[0m: 'bool' object has no attribute 'sum'"
          ]
        }
      ],
      "source": [
        "# 執行\n",
        "train_and_predict(X, y, X_test, params, red_len=len(test_red))"
      ]
    }
  ],
  "metadata": {
    "colab": {
      "provenance": []
    },
    "kernelspec": {
      "display_name": "aia16",
      "language": "python",
      "name": "python3"
    },
    "language_info": {
      "codemirror_mode": {
        "name": "ipython",
        "version": 3
      },
      "file_extension": ".py",
      "mimetype": "text/x-python",
      "name": "python",
      "nbconvert_exporter": "python",
      "pygments_lexer": "ipython3",
      "version": "3.8.1"
    }
  },
  "nbformat": 4,
  "nbformat_minor": 0
}
